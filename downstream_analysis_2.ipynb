{
 "cells": [
  {
   "cell_type": "markdown",
   "id": "9ef103dc-c1a2-4668-84c0-6b4657307121",
   "metadata": {},
   "source": [
    "### Downstream Analysis 2\n",
    "In this notebook, we will focus on the downstream analysis from a more macro scale. We will combine all CRE (regions) and look at all of them together. "
   ]
  },
  {
   "cell_type": "code",
   "execution_count": 1,
   "id": "8dd90f05-f3af-4c26-bb0d-af8f31d83a78",
   "metadata": {},
   "outputs": [],
   "source": [
    "import numpy as np\n",
    "import matplotlib.pyplot as plt\n",
    "import seaborn as sns\n",
    "from sklearn.decomposition import PCA\n",
    "import pickle\n",
    "from scipy.stats import spearmanr, pearsonr\n",
    "import warnings\n",
    "from tqdm import tqdm"
   ]
  },
  {
   "cell_type": "code",
   "execution_count": 4,
   "id": "44088849-7ba2-4c83-a4b3-ada4a4790bd0",
   "metadata": {},
   "outputs": [],
   "source": [
    "def array_stats(arr):\n",
    "    arr_min = np.min(arr)\n",
    "    arr_max = np.max(arr)\n",
    "    arr_mean = np.mean(arr)\n",
    "    arr_median = np.median(arr)\n",
    "    arr_std = np.std(arr)\n",
    "    arr_variance = np.var(arr)\n",
    "    arr_length = len(arr)\n",
    "    print(\"Minimum: \", arr_min)\n",
    "    print(\"Maximum: \", arr_max)\n",
    "    print(\"Mean: \", arr_mean)\n",
    "    print(\"Median: \", arr_median)\n",
    "    print(\"Standard Deviation: \", arr_std)\n",
    "    print(\"Variance: \", arr_variance)\n",
    "    print(\"Length: \", arr_length)"
   ]
  },
  {
   "cell_type": "code",
   "execution_count": 2,
   "id": "fe94cb52-d67e-4f95-830b-5a8c6479c8dd",
   "metadata": {},
   "outputs": [],
   "source": [
    "colors = {'0': '#000000',\n",
    "             '1': '#010067',\n",
    "             '2': '#D5FF00',\n",
    "             '3': '#FF0056',\n",
    "             '4': '#9E008E',\n",
    "             '5': '#0E4CA1',\n",
    "             '6': '#FFE502',\n",
    "             '7': '#005F39',\n",
    "             '8': '#00FF00',\n",
    "             '9': '#95003A',\n",
    "             '10': '#FF937E',\n",
    "             '11': '#A42400',\n",
    "             '12': '#001544',\n",
    "             '13': '#91D0CB',\n",
    "             '14': '#620E00',\n",
    "             '15': '#6B6882',\n",
    "             '16': '#0000FF',\n",
    "             '17': '#007DB5',\n",
    "             '18': '#6A826C',\n",
    "             '19': '#00AE7E',\n",
    "             '20': '#C28C9F',\n",
    "             '21': '#BE9970',\n",
    "             '22': '#008F9C',\n",
    "             '23': '#5FAD4E',\n",
    "             '24': '#FF0000',\n",
    "             '25': '#FF00F6',\n",
    "             '26': '#FF029D',\n",
    "             '27': '#683D3B',\n",
    "             '28': '#FF74A3',\n",
    "             '29': '#968AE8',\n",
    "             '30': '#98FF52',\n",
    "             '31': '#A75740',\n",
    "             '32': '#01FFFE',\n",
    "             '33': '#FFEEE8',\n",
    "             '34': '#FE8900',\n",
    "             '35': '#BDC6FF',\n",
    "             '36': '#01D0FF',\n",
    "             '37': '#BB8800',\n",
    "             '38': '#7544B1',\n",
    "             '39': '#A5FFD2',\n",
    "             '40': '#FFA6FE',\n",
    "             '41': '#774D00',\n",
    "             '42': '#7A4782',\n",
    "             '43': '#263400',\n",
    "             '44': '#004754',\n",
    "             '45': '#43002C',\n",
    "             '46': '#B500FF',\n",
    "             '47': '#FFB167',\n",
    "             '48': '#FFDB66',\n",
    "             '49': '#90FB92',\n",
    "             '50': '#7E2DD2',\n",
    "             '51': '#BDD393',\n",
    "             '52': '#E56FFE',\n",
    "             '53': '#DEFF74',\n",
    "             '54': '#00FF78',\n",
    "             '55': '#009BFF',\n",
    "             '56': '#006401',\n",
    "             '57': '#0076FF',\n",
    "             '58': '#85A900',\n",
    "             '59': '#00B917',\n",
    "             '60': '#788231',\n",
    "             '61': '#00FFC6',\n",
    "             '62': '#FF6E41',\n",
    "             '-1': '#000000'}"
   ]
  },
  {
   "cell_type": "code",
   "execution_count": 33,
   "id": "29a584d2-8e1a-4de5-930c-eb3a45452a5d",
   "metadata": {},
   "outputs": [
    {
     "name": "stdout",
     "output_type": "stream",
     "text": [
      "(359263, 25, 501)\n"
     ]
    }
   ],
   "source": [
    "# # Load the .npy file\n",
    "# data = np.load('/data/peer/panb2/replicate/result_tensor.npy')\n",
    "# print(data.shape)\n",
    "\n",
    "# # the dimension of the region is not important, so we remove it to faciliate later analysis\n",
    "# concatenated_data = np.concatenate(data, axis=1)\n",
    "# print(concatenated_data.shape)\n",
    "\n",
    "# np.save('/data/peer/panb2/replicate/concatenated_result_tensor.npy', concatenated_data)"
   ]
  },
  {
   "cell_type": "code",
   "execution_count": 38,
   "id": "9ea1d5ce-2954-4ceb-8943-e3d8609887e5",
   "metadata": {},
   "outputs": [],
   "source": [
    "concatenated_data = np.load('/data/peer/panb2/replicate/concatenated_result_tensor.npy')"
   ]
  },
  {
   "cell_type": "code",
   "execution_count": 86,
   "id": "998d7753-d83f-4307-8f49-fc048b067337",
   "metadata": {},
   "outputs": [
    {
     "data": {
      "text/plain": [
       "(25, 179990763)"
      ]
     },
     "execution_count": 86,
     "metadata": {},
     "output_type": "execute_result"
    }
   ],
   "source": [
    "concatenated_data.shape"
   ]
  },
  {
   "cell_type": "markdown",
   "id": "4064d6b6-223c-4531-96db-cffb1fed031c",
   "metadata": {},
   "source": [
    "#### Perform preprocessing on the data\n",
    "We first remove all the columns that sum to 0. These columns don't provide us with any valuable information regarding how cell clusters are different from each other."
   ]
  },
  {
   "cell_type": "code",
   "execution_count": 87,
   "id": "c3470d1f-7adf-480b-aada-d96c5714bebc",
   "metadata": {},
   "outputs": [],
   "source": [
    "# Initialize a list to store valid column indices\n",
    "valid_column_indices = []\n",
    "\n",
    "# Iterate over each column index\n",
    "for i in range(concatenated_data.shape[1]):\n",
    "    # Extract the column\n",
    "    column = concatenated_data[:, i]\n",
    "    \n",
    "    # Check if the column sum is 0 or contains NaN values\n",
    "    if np.sum(column) != 0 and np.sum(column) != np.inf:\n",
    "        # If the column is valid, add its index to the list\n",
    "        valid_column_indices.append(i)\n",
    "\n",
    "# Create a new array containing only the valid columns\n",
    "filtered_data = concatenated_data[:, valid_column_indices]"
   ]
  },
  {
   "cell_type": "code",
   "execution_count": 88,
   "id": "c0e1d3b4-c2df-46f7-93db-d67a2747b00e",
   "metadata": {},
   "outputs": [
    {
     "data": {
      "text/plain": [
       "(25, 174884318)"
      ]
     },
     "execution_count": 88,
     "metadata": {},
     "output_type": "execute_result"
    }
   ],
   "source": [
    "filtered_data.shape"
   ]
  },
  {
   "cell_type": "markdown",
   "id": "6f60a32c-2274-47c8-8ca8-93548366314f",
   "metadata": {},
   "source": [
    "174884335 columns were left after removing columns with sum of 0. \n",
    "174884318 columns were left after furthur removing columns that sums up to inf. "
   ]
  },
  {
   "cell_type": "code",
   "execution_count": 89,
   "id": "85715d9d-c718-42dd-bd6c-21f08eab76a7",
   "metadata": {},
   "outputs": [
    {
     "name": "stdout",
     "output_type": "stream",
     "text": [
      "289.913888276746\n"
     ]
    }
   ],
   "source": [
    "# making sure that the largest element is no longer infinity\n",
    "largest_element = np.max(filtered_data)\n",
    "print(largest_element)"
   ]
  },
  {
   "cell_type": "code",
   "execution_count": 92,
   "id": "73492428-76db-4eda-a2aa-d50a16ee8c66",
   "metadata": {},
   "outputs": [],
   "source": [
    "np.save('/data/peer/panb2/replicate/filtered_concatenated_result_tensor.npy', filtered_data)"
   ]
  },
  {
   "cell_type": "code",
   "execution_count": 4,
   "id": "f7938afa-f565-4dc2-b325-9a3157a54f10",
   "metadata": {},
   "outputs": [],
   "source": [
    "filtered_data = np.load('/data/peer/panb2/replicate/filtered_concatenated_result_tensor.npy')"
   ]
  },
  {
   "cell_type": "markdown",
   "id": "5676ca96-ba19-4126-94e4-f2da36971324",
   "metadata": {},
   "source": [
    "#### Perform PCA on a subset of the data"
   ]
  },
  {
   "cell_type": "code",
   "execution_count": 5,
   "id": "9765d4af-c9f0-4e98-b647-c7c8f41707f3",
   "metadata": {},
   "outputs": [],
   "source": [
    "# 'data' is the array of size (25, 174884318)\n",
    "\n",
    "# Take a random subset of data\n",
    "subset_size = 174884318\n",
    "random_indices = np.random.choice(filtered_data.shape[1], size=subset_size, replace=False)\n",
    "\n",
    "data_subset = filtered_data#[:, random_indices]\n",
    "\n",
    "# Perform PCA\n",
    "n_components = 25  # Choose the number of principal components\n",
    "pca = PCA(n_components=n_components)\n",
    "pca.fit(data_subset)\n",
    "\n",
    "# Transform the data using the learned PCA model\n",
    "transformed_data = pca.transform(data_subset)\n",
    "np.save('transformed_data_2.npy', transformed_data)"
   ]
  },
  {
   "cell_type": "code",
   "execution_count": 6,
   "id": "247e5780-d72c-46b9-9572-55b671aad7ae",
   "metadata": {},
   "outputs": [
    {
     "data": {
      "text/plain": [
       "(25, 25)"
      ]
     },
     "execution_count": 6,
     "metadata": {},
     "output_type": "execute_result"
    }
   ],
   "source": [
    "transformed_data.shape"
   ]
  },
  {
   "cell_type": "code",
   "execution_count": 3,
   "id": "72fd019a-869a-4096-b3a6-09471d1179c5",
   "metadata": {},
   "outputs": [],
   "source": [
    "transformed_data = np.load('transformed_data_2.npy')"
   ]
  },
  {
   "cell_type": "code",
   "execution_count": 4,
   "id": "3bdaca69-2abd-434c-9e08-3440cee39abc",
   "metadata": {},
   "outputs": [
    {
     "data": {
      "image/png": "[encoded data removed]",
      "text/plain": [
       "<Figure size 800x600 with 1 Axes>"
      ]
     },
     "metadata": {},
     "output_type": "display_data"
    }
   ],
   "source": [
    "# Create labels for each data point\n",
    "original_clusters = [0,1,2,3,4,5,6,7,8,9,10,11,12,13,15,16,17,18,19,20,21,22,23,26,28]\n",
    "labels = [f'Cluster {i}' for i in original_clusters]\n",
    "\n",
    "# Create a scatter plot of the transformed data with colored labels\n",
    "plt.figure(figsize=(8, 6))\n",
    "for i in range(transformed_data.shape[0]):\n",
    "    plt.scatter(transformed_data[i, 0], transformed_data[i, 1], color=[colors[str(i)]], alpha=0.5, label=labels[i])\n",
    "\n",
    "plt.title('PCA Transformed Data with Colored Labels')\n",
    "plt.xlabel('Principal Component 1')\n",
    "plt.ylabel('Principal Component 2')\n",
    "plt.grid(True)\n",
    "plt.legend(bbox_to_anchor=(1.05, 1), loc='upper left')\n",
    "plt.show()"
   ]
  },
  {
   "cell_type": "markdown",
   "id": "1f8e7c9f-31dc-4a24-917d-cc3a2fce89f9",
   "metadata": {},
   "source": [
    "#### Feature Selection: Examine which CRE contributes to the correlation with PC1\n",
    "First load the relevant numpy arrays"
   ]
  },
  {
   "cell_type": "code",
   "execution_count": 7,
   "id": "906e07e2-a2af-4b1d-ab8a-d780f962d514",
   "metadata": {},
   "outputs": [
    {
     "data": {
      "text/plain": [
       "(25, 174884318)"
      ]
     },
     "execution_count": 7,
     "metadata": {},
     "output_type": "execute_result"
    }
   ],
   "source": [
    "filtered_data = np.load('/data/peer/panb2/replicate/filtered_concatenated_result_tensor.npy')\n",
    "filtered_data.shape"
   ]
  },
  {
   "cell_type": "code",
   "execution_count": 8,
   "id": "d0b2d67d-01d9-4bc4-a990-89094f4e794e",
   "metadata": {},
   "outputs": [
    {
     "data": {
      "text/plain": [
       "(25, 25)"
      ]
     },
     "execution_count": 8,
     "metadata": {},
     "output_type": "execute_result"
    }
   ],
   "source": [
    "transformed_data = np.load('transformed_data_2.npy')\n",
    "transformed_data.shape"
   ]
  },
  {
   "cell_type": "code",
   "execution_count": 9,
   "id": "70c2038d-b0ae-4361-b6be-43c076c33034",
   "metadata": {},
   "outputs": [
    {
     "data": {
      "text/plain": [
       "array([-1776.03160405,  5113.13641059, -1705.2421875 ,  1875.4731345 ,\n",
       "       -1804.27766616,  -326.90456065, -1349.51725793, -1600.76801955,\n",
       "        3742.5016668 ,  -463.76532787,  2820.39029319,  5508.6286909 ,\n",
       "        -766.86782964, -1673.31864632,   -27.14293585, -1518.26323506,\n",
       "       -1723.93632789, -1822.91907442, -1732.18919954,  -513.34666809,\n",
       "       -1268.75903735,  2515.61111491,  1624.0219051 , -1796.06706955,\n",
       "       -1330.44656857])"
      ]
     },
     "execution_count": 9,
     "metadata": {},
     "output_type": "execute_result"
    }
   ],
   "source": [
    "# extracting the first principle component\n",
    "pc1 = transformed_data[:,0]\n",
    "pc1"
   ]
  },
  {
   "cell_type": "markdown",
   "id": "fc11ceed-9228-48f4-9de6-00b2e550dcad",
   "metadata": {},
   "source": [
    "We realized that the clusters with the two largest values of PC1 are Cluster 1 and Cluster 11. (not Cluster 11 and 12 as previously believed).\n",
    "\n",
    "We now calculate the correlation coefficients of PC1 with each of the 174884318 features in the filtered_data"
   ]
  },
  {
   "cell_type": "code",
   "execution_count": 33,
   "id": "9538528c-4696-4f76-aae5-c70280bcb117",
   "metadata": {},
   "outputs": [],
   "source": [
    "# filtered_data = np.random.rand(25,1000)"
   ]
  },
  {
   "cell_type": "code",
   "execution_count": null,
   "id": "bd973406-b6c3-49ec-947c-c4197f7b4856",
   "metadata": {},
   "outputs": [
    {
     "name": "stderr",
     "output_type": "stream",
     "text": [
      "Processing:   0%|          | 590187/174884318 [08:02<41:44:56, 1159.67it/s]"
     ]
    }
   ],
   "source": [
    "# Pre-allocate NumPy arrays for the Spearman and Pearson coefficients\n",
    "pearson_coeff_array = np.empty(filtered_data.shape[1])\n",
    "\n",
    "total_iterations = filtered_data.shape[1]\n",
    "progress_bar = tqdm(total=total_iterations, desc=\"Processing\")\n",
    "\n",
    "for i in range(total_iterations):\n",
    "    pearson_coeff_array[i] = pearsonr(pc1, filtered_data[:,i])[0]\n",
    "    progress_bar.update(1)\n",
    "\n",
    "progress_bar.close()\n",
    "print(\"Task completed!\")\n",
    "print(pearson_coeff_array.shape)\n",
    "\n",
    "np.save('/data/peer/panb2/replicate/pearson_coeff_array.npy', pearson_coeff_array)"
   ]
  },
  {
   "cell_type": "code",
   "execution_count": null,
   "id": "06674edf-19c9-424f-b010-6c2c3e574a78",
   "metadata": {},
   "outputs": [
    {
     "name": "stderr",
     "output_type": "stream",
     "text": [
      "Processing:  14%|█▍        | 24990824/174884318 [2:02:04<12:07:28, 3434.08it/s]"
     ]
    }
   ],
   "source": [
    "# Pre-allocate NumPy arrays for the Spearman and Pearson coefficients\n",
    "spearman_coeff_array = np.empty(filtered_data.shape[1])\n",
    "\n",
    "total_iterations = filtered_data.shape[1]\n",
    "progress_bar = tqdm(total=total_iterations, desc=\"Processing\")\n",
    "\n",
    "# We still need a loop for Spearman since it involves ranking\n",
    "for i in range(total_iterations):\n",
    "    spearman_coeff_array[i] = spearmanr(pc1, filtered_data[:, i])[0]\n",
    "    progress_bar.update(1)\n",
    "\n",
    "progress_bar.close()\n",
    "print(\"Task completed!\")\n",
    "print(spearman_coeff_array.shape)\n",
    "\n",
    "np.save('/data/peer/panb2/replicate/spearman_coeff_array.npy', spearman_coeff_array)"
   ]
  },
  {
   "cell_type": "markdown",
   "id": "b4312ff8-75ef-4dc3-af81-a9b403934294",
   "metadata": {},
   "source": [
    "The next step is to find the CRE's with very positive or very negative correlation coefficients, and plot the nucleosome position changes across clusters."
   ]
  }
 ],
 "metadata": {
  "kernelspec": {
   "display_name": "Python (chrom_env)",
   "language": "python",
   "name": "chrom_env"
  },
  "language_info": {
   "codemirror_mode": {
    "name": "ipython",
    "version": 3
   },
   "file_extension": ".py",
   "mimetype": "text/x-python",
   "name": "python",
   "nbconvert_exporter": "python",
   "pygments_lexer": "ipython3",
   "version": "3.9.18"
  }
 },
 "nbformat": 4,
 "nbformat_minor": 5
}
